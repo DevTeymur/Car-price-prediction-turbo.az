{
 "cells": [
  {
   "cell_type": "code",
   "execution_count": 5,
   "id": "ee5f8abe",
   "metadata": {},
   "outputs": [],
   "source": [
    "import pandas as pd\n",
    "import missingno as msno\n",
    "import seaborn as sns\n",
    "import matplotlib.pyplot as plt\n",
    "import datetime\n",
    "import numpy as np\n",
    "from warnings import filterwarnings\n",
    "filterwarnings('ignore')"
   ]
  },
  {
   "cell_type": "code",
   "execution_count": 168,
   "id": "9e8210a8",
   "metadata": {},
   "outputs": [],
   "source": [
    "df=pd.read_csv('..\\cars_turbo_az.csv')\n",
    "df.drop('Unnamed: 0', axis=1, inplace=True)"
   ]
  },
  {
   "cell_type": "code",
   "execution_count": 169,
   "id": "6fa66b92",
   "metadata": {},
   "outputs": [],
   "source": [
    "df.drop(['AnnMonth', 'AnnYear', 'AnnDateTime'], axis=1, inplace=True)"
   ]
  },
  {
   "cell_type": "code",
   "execution_count": 10,
   "id": "0346e9b6",
   "metadata": {},
   "outputs": [
    {
     "data": {
      "text/plain": [
       "Index(['City', 'Brand', 'Model', 'ProdYear', 'BanType', 'Color', 'EngVol',\n",
       "       'EngPow', 'FuelType', 'RideDist', 'Gearbox', 'Transmission', 'Price',\n",
       "       'Credit', 'Barter', 'YungulLehimliDiskler', 'ABS', 'Lyuk', 'RainSensor',\n",
       "       'MerkeziQapanma', 'ParKRadar', 'Condisioner', 'SeatHeat',\n",
       "       'LeatherSalon', 'KsenonLamps', 'BackVisionCam', 'YanPerdeler',\n",
       "       'SeatVentilation'],\n",
       "      dtype='object')"
      ]
     },
     "execution_count": 10,
     "metadata": {},
     "output_type": "execute_result"
    }
   ],
   "source": [
    "df.columns"
   ]
  },
  {
   "cell_type": "code",
   "execution_count": 11,
   "id": "6d23e1d1",
   "metadata": {},
   "outputs": [
    {
     "data": {
      "text/html": [
       "<div>\n",
       "<style scoped>\n",
       "    .dataframe tbody tr th:only-of-type {\n",
       "        vertical-align: middle;\n",
       "    }\n",
       "\n",
       "    .dataframe tbody tr th {\n",
       "        vertical-align: top;\n",
       "    }\n",
       "\n",
       "    .dataframe thead th {\n",
       "        text-align: right;\n",
       "    }\n",
       "</style>\n",
       "<table border=\"1\" class=\"dataframe\">\n",
       "  <thead>\n",
       "    <tr style=\"text-align: right;\">\n",
       "      <th></th>\n",
       "      <th>count</th>\n",
       "      <th>mean</th>\n",
       "      <th>std</th>\n",
       "      <th>min</th>\n",
       "      <th>25%</th>\n",
       "      <th>50%</th>\n",
       "      <th>75%</th>\n",
       "      <th>max</th>\n",
       "    </tr>\n",
       "  </thead>\n",
       "  <tbody>\n",
       "    <tr>\n",
       "      <th>ProdYear</th>\n",
       "      <td>36103.0</td>\n",
       "      <td>2005.139462</td>\n",
       "      <td>9.082490</td>\n",
       "      <td>1961.0</td>\n",
       "      <td>1999.0</td>\n",
       "      <td>2007.0</td>\n",
       "      <td>2012.0</td>\n",
       "      <td>2021.0</td>\n",
       "    </tr>\n",
       "    <tr>\n",
       "      <th>EngVol</th>\n",
       "      <td>36103.0</td>\n",
       "      <td>2.246002</td>\n",
       "      <td>1.318532</td>\n",
       "      <td>0.0</td>\n",
       "      <td>1.6</td>\n",
       "      <td>2.0</td>\n",
       "      <td>2.4</td>\n",
       "      <td>16.0</td>\n",
       "    </tr>\n",
       "    <tr>\n",
       "      <th>EngPow</th>\n",
       "      <td>36103.0</td>\n",
       "      <td>152.495111</td>\n",
       "      <td>85.450919</td>\n",
       "      <td>1.0</td>\n",
       "      <td>90.0</td>\n",
       "      <td>136.0</td>\n",
       "      <td>178.0</td>\n",
       "      <td>967.0</td>\n",
       "    </tr>\n",
       "    <tr>\n",
       "      <th>RideDist</th>\n",
       "      <td>36103.0</td>\n",
       "      <td>206175.609423</td>\n",
       "      <td>160945.000454</td>\n",
       "      <td>0.0</td>\n",
       "      <td>109825.0</td>\n",
       "      <td>186000.0</td>\n",
       "      <td>273000.0</td>\n",
       "      <td>9999999.0</td>\n",
       "    </tr>\n",
       "    <tr>\n",
       "      <th>Price</th>\n",
       "      <td>36103.0</td>\n",
       "      <td>21048.067319</td>\n",
       "      <td>31555.382414</td>\n",
       "      <td>500.0</td>\n",
       "      <td>7600.0</td>\n",
       "      <td>12700.0</td>\n",
       "      <td>21900.0</td>\n",
       "      <td>816000.0</td>\n",
       "    </tr>\n",
       "    <tr>\n",
       "      <th>Credit</th>\n",
       "      <td>36103.0</td>\n",
       "      <td>0.097637</td>\n",
       "      <td>0.296828</td>\n",
       "      <td>0.0</td>\n",
       "      <td>0.0</td>\n",
       "      <td>0.0</td>\n",
       "      <td>0.0</td>\n",
       "      <td>1.0</td>\n",
       "    </tr>\n",
       "    <tr>\n",
       "      <th>Barter</th>\n",
       "      <td>36103.0</td>\n",
       "      <td>0.249314</td>\n",
       "      <td>0.432622</td>\n",
       "      <td>0.0</td>\n",
       "      <td>0.0</td>\n",
       "      <td>0.0</td>\n",
       "      <td>0.0</td>\n",
       "      <td>1.0</td>\n",
       "    </tr>\n",
       "    <tr>\n",
       "      <th>YungulLehimliDiskler</th>\n",
       "      <td>36103.0</td>\n",
       "      <td>0.784782</td>\n",
       "      <td>0.410979</td>\n",
       "      <td>0.0</td>\n",
       "      <td>1.0</td>\n",
       "      <td>1.0</td>\n",
       "      <td>1.0</td>\n",
       "      <td>1.0</td>\n",
       "    </tr>\n",
       "    <tr>\n",
       "      <th>ABS</th>\n",
       "      <td>36103.0</td>\n",
       "      <td>0.739385</td>\n",
       "      <td>0.438977</td>\n",
       "      <td>0.0</td>\n",
       "      <td>0.0</td>\n",
       "      <td>1.0</td>\n",
       "      <td>1.0</td>\n",
       "      <td>1.0</td>\n",
       "    </tr>\n",
       "    <tr>\n",
       "      <th>Lyuk</th>\n",
       "      <td>36103.0</td>\n",
       "      <td>0.374567</td>\n",
       "      <td>0.484018</td>\n",
       "      <td>0.0</td>\n",
       "      <td>0.0</td>\n",
       "      <td>0.0</td>\n",
       "      <td>1.0</td>\n",
       "      <td>1.0</td>\n",
       "    </tr>\n",
       "    <tr>\n",
       "      <th>RainSensor</th>\n",
       "      <td>36103.0</td>\n",
       "      <td>0.492452</td>\n",
       "      <td>0.499950</td>\n",
       "      <td>0.0</td>\n",
       "      <td>0.0</td>\n",
       "      <td>0.0</td>\n",
       "      <td>1.0</td>\n",
       "      <td>1.0</td>\n",
       "    </tr>\n",
       "    <tr>\n",
       "      <th>MerkeziQapanma</th>\n",
       "      <td>36103.0</td>\n",
       "      <td>0.745977</td>\n",
       "      <td>0.435317</td>\n",
       "      <td>0.0</td>\n",
       "      <td>0.0</td>\n",
       "      <td>1.0</td>\n",
       "      <td>1.0</td>\n",
       "      <td>1.0</td>\n",
       "    </tr>\n",
       "    <tr>\n",
       "      <th>ParKRadar</th>\n",
       "      <td>36103.0</td>\n",
       "      <td>0.416946</td>\n",
       "      <td>0.493061</td>\n",
       "      <td>0.0</td>\n",
       "      <td>0.0</td>\n",
       "      <td>0.0</td>\n",
       "      <td>1.0</td>\n",
       "      <td>1.0</td>\n",
       "    </tr>\n",
       "    <tr>\n",
       "      <th>Condisioner</th>\n",
       "      <td>36103.0</td>\n",
       "      <td>0.697837</td>\n",
       "      <td>0.459202</td>\n",
       "      <td>0.0</td>\n",
       "      <td>0.0</td>\n",
       "      <td>1.0</td>\n",
       "      <td>1.0</td>\n",
       "      <td>1.0</td>\n",
       "    </tr>\n",
       "    <tr>\n",
       "      <th>SeatHeat</th>\n",
       "      <td>36103.0</td>\n",
       "      <td>0.394455</td>\n",
       "      <td>0.488740</td>\n",
       "      <td>0.0</td>\n",
       "      <td>0.0</td>\n",
       "      <td>0.0</td>\n",
       "      <td>1.0</td>\n",
       "      <td>1.0</td>\n",
       "    </tr>\n",
       "    <tr>\n",
       "      <th>LeatherSalon</th>\n",
       "      <td>36103.0</td>\n",
       "      <td>0.393624</td>\n",
       "      <td>0.488560</td>\n",
       "      <td>0.0</td>\n",
       "      <td>0.0</td>\n",
       "      <td>0.0</td>\n",
       "      <td>1.0</td>\n",
       "      <td>1.0</td>\n",
       "    </tr>\n",
       "    <tr>\n",
       "      <th>KsenonLamps</th>\n",
       "      <td>36103.0</td>\n",
       "      <td>0.468770</td>\n",
       "      <td>0.499031</td>\n",
       "      <td>0.0</td>\n",
       "      <td>0.0</td>\n",
       "      <td>0.0</td>\n",
       "      <td>1.0</td>\n",
       "      <td>1.0</td>\n",
       "    </tr>\n",
       "    <tr>\n",
       "      <th>BackVisionCam</th>\n",
       "      <td>36103.0</td>\n",
       "      <td>0.378196</td>\n",
       "      <td>0.484944</td>\n",
       "      <td>0.0</td>\n",
       "      <td>0.0</td>\n",
       "      <td>0.0</td>\n",
       "      <td>1.0</td>\n",
       "      <td>1.0</td>\n",
       "    </tr>\n",
       "    <tr>\n",
       "      <th>YanPerdeler</th>\n",
       "      <td>36103.0</td>\n",
       "      <td>0.491566</td>\n",
       "      <td>0.499936</td>\n",
       "      <td>0.0</td>\n",
       "      <td>0.0</td>\n",
       "      <td>0.0</td>\n",
       "      <td>1.0</td>\n",
       "      <td>1.0</td>\n",
       "    </tr>\n",
       "    <tr>\n",
       "      <th>SeatVentilation</th>\n",
       "      <td>36103.0</td>\n",
       "      <td>0.257402</td>\n",
       "      <td>0.437209</td>\n",
       "      <td>0.0</td>\n",
       "      <td>0.0</td>\n",
       "      <td>0.0</td>\n",
       "      <td>1.0</td>\n",
       "      <td>1.0</td>\n",
       "    </tr>\n",
       "  </tbody>\n",
       "</table>\n",
       "</div>"
      ],
      "text/plain": [
       "                        count           mean            std     min       25%  \\\n",
       "ProdYear              36103.0    2005.139462       9.082490  1961.0    1999.0   \n",
       "EngVol                36103.0       2.246002       1.318532     0.0       1.6   \n",
       "EngPow                36103.0     152.495111      85.450919     1.0      90.0   \n",
       "RideDist              36103.0  206175.609423  160945.000454     0.0  109825.0   \n",
       "Price                 36103.0   21048.067319   31555.382414   500.0    7600.0   \n",
       "Credit                36103.0       0.097637       0.296828     0.0       0.0   \n",
       "Barter                36103.0       0.249314       0.432622     0.0       0.0   \n",
       "YungulLehimliDiskler  36103.0       0.784782       0.410979     0.0       1.0   \n",
       "ABS                   36103.0       0.739385       0.438977     0.0       0.0   \n",
       "Lyuk                  36103.0       0.374567       0.484018     0.0       0.0   \n",
       "RainSensor            36103.0       0.492452       0.499950     0.0       0.0   \n",
       "MerkeziQapanma        36103.0       0.745977       0.435317     0.0       0.0   \n",
       "ParKRadar             36103.0       0.416946       0.493061     0.0       0.0   \n",
       "Condisioner           36103.0       0.697837       0.459202     0.0       0.0   \n",
       "SeatHeat              36103.0       0.394455       0.488740     0.0       0.0   \n",
       "LeatherSalon          36103.0       0.393624       0.488560     0.0       0.0   \n",
       "KsenonLamps           36103.0       0.468770       0.499031     0.0       0.0   \n",
       "BackVisionCam         36103.0       0.378196       0.484944     0.0       0.0   \n",
       "YanPerdeler           36103.0       0.491566       0.499936     0.0       0.0   \n",
       "SeatVentilation       36103.0       0.257402       0.437209     0.0       0.0   \n",
       "\n",
       "                           50%       75%        max  \n",
       "ProdYear                2007.0    2012.0     2021.0  \n",
       "EngVol                     2.0       2.4       16.0  \n",
       "EngPow                   136.0     178.0      967.0  \n",
       "RideDist              186000.0  273000.0  9999999.0  \n",
       "Price                  12700.0   21900.0   816000.0  \n",
       "Credit                     0.0       0.0        1.0  \n",
       "Barter                     0.0       0.0        1.0  \n",
       "YungulLehimliDiskler       1.0       1.0        1.0  \n",
       "ABS                        1.0       1.0        1.0  \n",
       "Lyuk                       0.0       1.0        1.0  \n",
       "RainSensor                 0.0       1.0        1.0  \n",
       "MerkeziQapanma             1.0       1.0        1.0  \n",
       "ParKRadar                  0.0       1.0        1.0  \n",
       "Condisioner                1.0       1.0        1.0  \n",
       "SeatHeat                   0.0       1.0        1.0  \n",
       "LeatherSalon               0.0       1.0        1.0  \n",
       "KsenonLamps                0.0       1.0        1.0  \n",
       "BackVisionCam              0.0       1.0        1.0  \n",
       "YanPerdeler                0.0       1.0        1.0  \n",
       "SeatVentilation            0.0       1.0        1.0  "
      ]
     },
     "execution_count": 11,
     "metadata": {},
     "output_type": "execute_result"
    }
   ],
   "source": [
    "df.describe().T"
   ]
  },
  {
   "cell_type": "code",
   "execution_count": 170,
   "id": "17f24d44",
   "metadata": {},
   "outputs": [],
   "source": [
    "data=df.copy()"
   ]
  },
  {
   "cell_type": "code",
   "execution_count": 171,
   "id": "87600c5e",
   "metadata": {},
   "outputs": [],
   "source": [
    "#Brand"
   ]
  },
  {
   "cell_type": "code",
   "execution_count": 172,
   "id": "e9d45d98",
   "metadata": {},
   "outputs": [],
   "source": [
    "a=data.Brand.value_counts().sort_values(ascending=True).iloc[:67]"
   ]
  },
  {
   "cell_type": "code",
   "execution_count": 173,
   "id": "a6105d56",
   "metadata": {},
   "outputs": [
    {
     "data": {
      "text/plain": [
       "array([ 1,  1,  1,  1,  1,  1,  1,  1,  1,  1,  1,  1,  1,  1,  1,  1,  2,\n",
       "        2,  2,  2,  2,  2,  2,  2,  2,  2,  2,  3,  3,  3,  3,  3,  3,  3,\n",
       "        4,  4,  4,  5,  5,  6,  6,  6,  7,  7,  7,  8,  8,  9, 10, 10, 10,\n",
       "       10, 11, 11, 12, 13, 16, 16, 16, 16, 17, 17, 18, 18, 18, 18, 19],\n",
       "      dtype=int64)"
      ]
     },
     "execution_count": 173,
     "metadata": {},
     "output_type": "execute_result"
    }
   ],
   "source": [
    "a.values"
   ]
  },
  {
   "cell_type": "code",
   "execution_count": 174,
   "id": "258eeb47",
   "metadata": {},
   "outputs": [
    {
     "data": {
      "text/plain": [
       "130"
      ]
     },
     "execution_count": 174,
     "metadata": {},
     "output_type": "execute_result"
    }
   ],
   "source": [
    "data.Brand.nunique()"
   ]
  },
  {
   "cell_type": "code",
   "execution_count": 175,
   "id": "0db03af0",
   "metadata": {},
   "outputs": [],
   "source": [
    "for b in a.index:\n",
    "    data.drop(data[data['Brand'] == b].index, inplace = True)"
   ]
  },
  {
   "cell_type": "code",
   "execution_count": 176,
   "id": "aff862f4",
   "metadata": {},
   "outputs": [
    {
     "data": {
      "text/plain": [
       "63"
      ]
     },
     "execution_count": 176,
     "metadata": {},
     "output_type": "execute_result"
    }
   ],
   "source": [
    "data.Brand.nunique()"
   ]
  },
  {
   "cell_type": "code",
   "execution_count": 177,
   "id": "b70d2133",
   "metadata": {},
   "outputs": [
    {
     "data": {
      "text/plain": [
       "Iveco         20\n",
       "Hummer        20\n",
       "Ssang Yong    21\n",
       "Chrysler      21\n",
       "HOWO          22\n",
       "Name: Brand, dtype: int64"
      ]
     },
     "execution_count": 177,
     "metadata": {},
     "output_type": "execute_result"
    }
   ],
   "source": [
    "data.Brand.value_counts().sort_values(ascending=True).iloc[:5]"
   ]
  },
  {
   "cell_type": "code",
   "execution_count": 178,
   "id": "9538245d",
   "metadata": {},
   "outputs": [
    {
     "data": {
      "text/plain": [
       "6586     9999999\n",
       "10548    8539652\n",
       "25287    4500000\n",
       "10475    3105757\n",
       "Name: RideDist, dtype: int64"
      ]
     },
     "execution_count": 178,
     "metadata": {},
     "output_type": "execute_result"
    }
   ],
   "source": [
    "data.RideDist.sort_values(ascending=False).iloc[:4]"
   ]
  },
  {
   "cell_type": "code",
   "execution_count": 179,
   "id": "3cd606cd",
   "metadata": {},
   "outputs": [],
   "source": [
    "for r in data.RideDist.sort_values(ascending=False).iloc[:4].values:\n",
    "    data=data[data.RideDist!=r]"
   ]
  },
  {
   "cell_type": "code",
   "execution_count": 180,
   "id": "9ad3abd7",
   "metadata": {},
   "outputs": [
    {
     "data": {
      "text/plain": [
       "5444     3000000\n",
       "10523    2563266\n",
       "10486    2500000\n",
       "10472    1649444\n",
       "Name: RideDist, dtype: int64"
      ]
     },
     "execution_count": 180,
     "metadata": {},
     "output_type": "execute_result"
    }
   ],
   "source": [
    "data.RideDist.sort_values(ascending=False).iloc[:4]"
   ]
  },
  {
   "cell_type": "code",
   "execution_count": 181,
   "id": "10daae44",
   "metadata": {},
   "outputs": [],
   "source": [
    "brand_model=df.groupby(['Brand', 'Model'])['City'].count().sort_values(ascending=True).iloc[:1150].index"
   ]
  },
  {
   "cell_type": "code",
   "execution_count": 182,
   "id": "e2effd3b",
   "metadata": {},
   "outputs": [],
   "source": [
    "for pair in brand_model:\n",
    "    data.drop(data[(data['Brand'] == pair[0]) & (data['Model'] == pair[1])].index, inplace = True)"
   ]
  },
  {
   "cell_type": "code",
   "execution_count": 183,
   "id": "2190789d",
   "metadata": {},
   "outputs": [
    {
     "data": {
      "text/html": [
       "<div>\n",
       "<style scoped>\n",
       "    .dataframe tbody tr th:only-of-type {\n",
       "        vertical-align: middle;\n",
       "    }\n",
       "\n",
       "    .dataframe tbody tr th {\n",
       "        vertical-align: top;\n",
       "    }\n",
       "\n",
       "    .dataframe thead th {\n",
       "        text-align: right;\n",
       "    }\n",
       "</style>\n",
       "<table border=\"1\" class=\"dataframe\">\n",
       "  <thead>\n",
       "    <tr style=\"text-align: right;\">\n",
       "      <th></th>\n",
       "      <th>count</th>\n",
       "      <th>mean</th>\n",
       "      <th>std</th>\n",
       "      <th>min</th>\n",
       "      <th>25%</th>\n",
       "      <th>50%</th>\n",
       "      <th>75%</th>\n",
       "      <th>max</th>\n",
       "    </tr>\n",
       "  </thead>\n",
       "  <tbody>\n",
       "    <tr>\n",
       "      <th>ProdYear</th>\n",
       "      <td>31553.0</td>\n",
       "      <td>2004.683073</td>\n",
       "      <td>8.970495</td>\n",
       "      <td>1961.0</td>\n",
       "      <td>1999.0</td>\n",
       "      <td>2006.0</td>\n",
       "      <td>2012.0</td>\n",
       "      <td>2021.0</td>\n",
       "    </tr>\n",
       "    <tr>\n",
       "      <th>EngVol</th>\n",
       "      <td>31553.0</td>\n",
       "      <td>2.146484</td>\n",
       "      <td>1.086569</td>\n",
       "      <td>0.3</td>\n",
       "      <td>1.6</td>\n",
       "      <td>1.8</td>\n",
       "      <td>2.4</td>\n",
       "      <td>16.0</td>\n",
       "    </tr>\n",
       "    <tr>\n",
       "      <th>EngPow</th>\n",
       "      <td>31553.0</td>\n",
       "      <td>146.164992</td>\n",
       "      <td>76.814918</td>\n",
       "      <td>1.0</td>\n",
       "      <td>90.0</td>\n",
       "      <td>136.0</td>\n",
       "      <td>174.0</td>\n",
       "      <td>756.0</td>\n",
       "    </tr>\n",
       "    <tr>\n",
       "      <th>RideDist</th>\n",
       "      <td>31553.0</td>\n",
       "      <td>208531.475961</td>\n",
       "      <td>134465.567441</td>\n",
       "      <td>0.0</td>\n",
       "      <td>116000.0</td>\n",
       "      <td>190000.0</td>\n",
       "      <td>276928.0</td>\n",
       "      <td>2563266.0</td>\n",
       "    </tr>\n",
       "    <tr>\n",
       "      <th>Price</th>\n",
       "      <td>31553.0</td>\n",
       "      <td>18767.932990</td>\n",
       "      <td>26229.327074</td>\n",
       "      <td>800.0</td>\n",
       "      <td>7500.0</td>\n",
       "      <td>12400.0</td>\n",
       "      <td>19800.0</td>\n",
       "      <td>613398.5</td>\n",
       "    </tr>\n",
       "    <tr>\n",
       "      <th>Credit</th>\n",
       "      <td>31553.0</td>\n",
       "      <td>0.099578</td>\n",
       "      <td>0.299442</td>\n",
       "      <td>0.0</td>\n",
       "      <td>0.0</td>\n",
       "      <td>0.0</td>\n",
       "      <td>0.0</td>\n",
       "      <td>1.0</td>\n",
       "    </tr>\n",
       "    <tr>\n",
       "      <th>Barter</th>\n",
       "      <td>31553.0</td>\n",
       "      <td>0.235984</td>\n",
       "      <td>0.424619</td>\n",
       "      <td>0.0</td>\n",
       "      <td>0.0</td>\n",
       "      <td>0.0</td>\n",
       "      <td>0.0</td>\n",
       "      <td>1.0</td>\n",
       "    </tr>\n",
       "    <tr>\n",
       "      <th>YungulLehimliDiskler</th>\n",
       "      <td>31553.0</td>\n",
       "      <td>0.787405</td>\n",
       "      <td>0.409150</td>\n",
       "      <td>0.0</td>\n",
       "      <td>1.0</td>\n",
       "      <td>1.0</td>\n",
       "      <td>1.0</td>\n",
       "      <td>1.0</td>\n",
       "    </tr>\n",
       "    <tr>\n",
       "      <th>ABS</th>\n",
       "      <td>31553.0</td>\n",
       "      <td>0.735429</td>\n",
       "      <td>0.441111</td>\n",
       "      <td>0.0</td>\n",
       "      <td>0.0</td>\n",
       "      <td>1.0</td>\n",
       "      <td>1.0</td>\n",
       "      <td>1.0</td>\n",
       "    </tr>\n",
       "    <tr>\n",
       "      <th>Lyuk</th>\n",
       "      <td>31553.0</td>\n",
       "      <td>0.364783</td>\n",
       "      <td>0.481377</td>\n",
       "      <td>0.0</td>\n",
       "      <td>0.0</td>\n",
       "      <td>0.0</td>\n",
       "      <td>1.0</td>\n",
       "      <td>1.0</td>\n",
       "    </tr>\n",
       "    <tr>\n",
       "      <th>RainSensor</th>\n",
       "      <td>31553.0</td>\n",
       "      <td>0.486958</td>\n",
       "      <td>0.499838</td>\n",
       "      <td>0.0</td>\n",
       "      <td>0.0</td>\n",
       "      <td>0.0</td>\n",
       "      <td>1.0</td>\n",
       "      <td>1.0</td>\n",
       "    </tr>\n",
       "    <tr>\n",
       "      <th>MerkeziQapanma</th>\n",
       "      <td>31553.0</td>\n",
       "      <td>0.748582</td>\n",
       "      <td>0.433835</td>\n",
       "      <td>0.0</td>\n",
       "      <td>0.0</td>\n",
       "      <td>1.0</td>\n",
       "      <td>1.0</td>\n",
       "      <td>1.0</td>\n",
       "    </tr>\n",
       "    <tr>\n",
       "      <th>ParKRadar</th>\n",
       "      <td>31553.0</td>\n",
       "      <td>0.403353</td>\n",
       "      <td>0.490578</td>\n",
       "      <td>0.0</td>\n",
       "      <td>0.0</td>\n",
       "      <td>0.0</td>\n",
       "      <td>1.0</td>\n",
       "      <td>1.0</td>\n",
       "    </tr>\n",
       "    <tr>\n",
       "      <th>Condisioner</th>\n",
       "      <td>31553.0</td>\n",
       "      <td>0.693088</td>\n",
       "      <td>0.461220</td>\n",
       "      <td>0.0</td>\n",
       "      <td>0.0</td>\n",
       "      <td>1.0</td>\n",
       "      <td>1.0</td>\n",
       "      <td>1.0</td>\n",
       "    </tr>\n",
       "    <tr>\n",
       "      <th>SeatHeat</th>\n",
       "      <td>31553.0</td>\n",
       "      <td>0.385066</td>\n",
       "      <td>0.486619</td>\n",
       "      <td>0.0</td>\n",
       "      <td>0.0</td>\n",
       "      <td>0.0</td>\n",
       "      <td>1.0</td>\n",
       "      <td>1.0</td>\n",
       "    </tr>\n",
       "    <tr>\n",
       "      <th>LeatherSalon</th>\n",
       "      <td>31553.0</td>\n",
       "      <td>0.380566</td>\n",
       "      <td>0.485534</td>\n",
       "      <td>0.0</td>\n",
       "      <td>0.0</td>\n",
       "      <td>0.0</td>\n",
       "      <td>1.0</td>\n",
       "      <td>1.0</td>\n",
       "    </tr>\n",
       "    <tr>\n",
       "      <th>KsenonLamps</th>\n",
       "      <td>31553.0</td>\n",
       "      <td>0.464108</td>\n",
       "      <td>0.498718</td>\n",
       "      <td>0.0</td>\n",
       "      <td>0.0</td>\n",
       "      <td>0.0</td>\n",
       "      <td>1.0</td>\n",
       "      <td>1.0</td>\n",
       "    </tr>\n",
       "    <tr>\n",
       "      <th>BackVisionCam</th>\n",
       "      <td>31553.0</td>\n",
       "      <td>0.367635</td>\n",
       "      <td>0.482169</td>\n",
       "      <td>0.0</td>\n",
       "      <td>0.0</td>\n",
       "      <td>0.0</td>\n",
       "      <td>1.0</td>\n",
       "      <td>1.0</td>\n",
       "    </tr>\n",
       "    <tr>\n",
       "      <th>YanPerdeler</th>\n",
       "      <td>31553.0</td>\n",
       "      <td>0.502583</td>\n",
       "      <td>0.500001</td>\n",
       "      <td>0.0</td>\n",
       "      <td>0.0</td>\n",
       "      <td>1.0</td>\n",
       "      <td>1.0</td>\n",
       "      <td>1.0</td>\n",
       "    </tr>\n",
       "    <tr>\n",
       "      <th>SeatVentilation</th>\n",
       "      <td>31553.0</td>\n",
       "      <td>0.252781</td>\n",
       "      <td>0.434613</td>\n",
       "      <td>0.0</td>\n",
       "      <td>0.0</td>\n",
       "      <td>0.0</td>\n",
       "      <td>1.0</td>\n",
       "      <td>1.0</td>\n",
       "    </tr>\n",
       "  </tbody>\n",
       "</table>\n",
       "</div>"
      ],
      "text/plain": [
       "                        count           mean            std     min       25%  \\\n",
       "ProdYear              31553.0    2004.683073       8.970495  1961.0    1999.0   \n",
       "EngVol                31553.0       2.146484       1.086569     0.3       1.6   \n",
       "EngPow                31553.0     146.164992      76.814918     1.0      90.0   \n",
       "RideDist              31553.0  208531.475961  134465.567441     0.0  116000.0   \n",
       "Price                 31553.0   18767.932990   26229.327074   800.0    7500.0   \n",
       "Credit                31553.0       0.099578       0.299442     0.0       0.0   \n",
       "Barter                31553.0       0.235984       0.424619     0.0       0.0   \n",
       "YungulLehimliDiskler  31553.0       0.787405       0.409150     0.0       1.0   \n",
       "ABS                   31553.0       0.735429       0.441111     0.0       0.0   \n",
       "Lyuk                  31553.0       0.364783       0.481377     0.0       0.0   \n",
       "RainSensor            31553.0       0.486958       0.499838     0.0       0.0   \n",
       "MerkeziQapanma        31553.0       0.748582       0.433835     0.0       0.0   \n",
       "ParKRadar             31553.0       0.403353       0.490578     0.0       0.0   \n",
       "Condisioner           31553.0       0.693088       0.461220     0.0       0.0   \n",
       "SeatHeat              31553.0       0.385066       0.486619     0.0       0.0   \n",
       "LeatherSalon          31553.0       0.380566       0.485534     0.0       0.0   \n",
       "KsenonLamps           31553.0       0.464108       0.498718     0.0       0.0   \n",
       "BackVisionCam         31553.0       0.367635       0.482169     0.0       0.0   \n",
       "YanPerdeler           31553.0       0.502583       0.500001     0.0       0.0   \n",
       "SeatVentilation       31553.0       0.252781       0.434613     0.0       0.0   \n",
       "\n",
       "                           50%       75%        max  \n",
       "ProdYear                2006.0    2012.0     2021.0  \n",
       "EngVol                     1.8       2.4       16.0  \n",
       "EngPow                   136.0     174.0      756.0  \n",
       "RideDist              190000.0  276928.0  2563266.0  \n",
       "Price                  12400.0   19800.0   613398.5  \n",
       "Credit                     0.0       0.0        1.0  \n",
       "Barter                     0.0       0.0        1.0  \n",
       "YungulLehimliDiskler       1.0       1.0        1.0  \n",
       "ABS                        1.0       1.0        1.0  \n",
       "Lyuk                       0.0       1.0        1.0  \n",
       "RainSensor                 0.0       1.0        1.0  \n",
       "MerkeziQapanma             1.0       1.0        1.0  \n",
       "ParKRadar                  0.0       1.0        1.0  \n",
       "Condisioner                1.0       1.0        1.0  \n",
       "SeatHeat                   0.0       1.0        1.0  \n",
       "LeatherSalon               0.0       1.0        1.0  \n",
       "KsenonLamps                0.0       1.0        1.0  \n",
       "BackVisionCam              0.0       1.0        1.0  \n",
       "YanPerdeler                1.0       1.0        1.0  \n",
       "SeatVentilation            0.0       1.0        1.0  "
      ]
     },
     "execution_count": 183,
     "metadata": {},
     "output_type": "execute_result"
    }
   ],
   "source": [
    "data.describe().T"
   ]
  },
  {
   "cell_type": "code",
   "execution_count": 184,
   "id": "1d7176ee",
   "metadata": {},
   "outputs": [
    {
     "data": {
      "text/plain": [
       "(31553, 28)"
      ]
     },
     "execution_count": 184,
     "metadata": {},
     "output_type": "execute_result"
    }
   ],
   "source": [
    "data.shape"
   ]
  },
  {
   "cell_type": "code",
   "execution_count": 185,
   "id": "3a681854",
   "metadata": {},
   "outputs": [
    {
     "data": {
      "image/png": "[encoded data removed]",
      "text/plain": [
       "<Figure size 432x288 with 1 Axes>"
      ]
     },
     "metadata": {
      "needs_background": "light"
     },
     "output_type": "display_data"
    },
    {
     "data": {
      "image/png": "[encoded data removed]",
      "text/plain": [
       "<Figure size 432x288 with 1 Axes>"
      ]
     },
     "metadata": {
      "needs_background": "light"
     },
     "output_type": "display_data"
    },
    {
     "data": {
      "image/png": "[encoded data removed]",
      "text/plain": [
       "<Figure size 432x288 with 1 Axes>"
      ]
     },
     "metadata": {
      "needs_background": "light"
     },
     "output_type": "display_data"
    },
    {
     "data": {
      "image/png": "[encoded data removed]",
      "text/plain": [
       "<Figure size 432x288 with 1 Axes>"
      ]
     },
     "metadata": {
      "needs_background": "light"
     },
     "output_type": "display_data"
    },
    {
     "data": {
      "image/png": "[encoded data removed]",
      "text/plain": [
       "<Figure size 432x288 with 1 Axes>"
      ]
     },
     "metadata": {
      "needs_background": "light"
     },
     "output_type": "display_data"
    }
   ],
   "source": [
    "for col in data._get_numeric_data().iloc[:,:5]:\n",
    "    sns.boxplot(data[col])\n",
    "    plt.show()"
   ]
  },
  {
   "cell_type": "code",
   "execution_count": 186,
   "id": "ca5ac4f1",
   "metadata": {},
   "outputs": [],
   "source": [
    "data=data.query(\"`ProdYear`>1980\")"
   ]
  },
  {
   "cell_type": "code",
   "execution_count": 187,
   "id": "4a61acf4",
   "metadata": {},
   "outputs": [],
   "source": [
    "data=data.query(\"`EngVol`<8\")"
   ]
  },
  {
   "cell_type": "code",
   "execution_count": 188,
   "id": "21ee22c3",
   "metadata": {},
   "outputs": [],
   "source": [
    "data=data.query(\"`EngPow`<500\")"
   ]
  },
  {
   "cell_type": "code",
   "execution_count": 189,
   "id": "4ba77ac7",
   "metadata": {},
   "outputs": [],
   "source": [
    "data=data.query(\"`RideDist`<1000000\")"
   ]
  },
  {
   "cell_type": "code",
   "execution_count": 190,
   "id": "f74cb7d8",
   "metadata": {},
   "outputs": [],
   "source": [
    "data=data.query(\"`EngVol`>=1\")"
   ]
  },
  {
   "cell_type": "code",
   "execution_count": 191,
   "id": "3a97e406",
   "metadata": {},
   "outputs": [
    {
     "data": {
      "image/png": "[encoded data removed]",
      "text/plain": [
       "<Figure size 432x288 with 1 Axes>"
      ]
     },
     "metadata": {
      "needs_background": "light"
     },
     "output_type": "display_data"
    },
    {
     "data": {
      "image/png": "[encoded data removed]",
      "text/plain": [
       "<Figure size 432x288 with 1 Axes>"
      ]
     },
     "metadata": {
      "needs_background": "light"
     },
     "output_type": "display_data"
    },
    {
     "data": {
      "image/png": "[encoded data removed]",
      "text/plain": [
       "<Figure size 432x288 with 1 Axes>"
      ]
     },
     "metadata": {
      "needs_background": "light"
     },
     "output_type": "display_data"
    },
    {
     "data": {
      "image/png": "[encoded data removed]",
      "text/plain": [
       "<Figure size 432x288 with 1 Axes>"
      ]
     },
     "metadata": {
      "needs_background": "light"
     },
     "output_type": "display_data"
    },
    {
     "data": {
      "image/png": "[encoded data removed]",
      "text/plain": [
       "<Figure size 432x288 with 1 Axes>"
      ]
     },
     "metadata": {
      "needs_background": "light"
     },
     "output_type": "display_data"
    }
   ],
   "source": [
    "for col in data._get_numeric_data().iloc[:,:5]:\n",
    "    sns.boxplot(data[col])\n",
    "    plt.show()"
   ]
  },
  {
   "cell_type": "code",
   "execution_count": 192,
   "id": "b759b84d",
   "metadata": {},
   "outputs": [
    {
     "data": {
      "text/plain": [
       "(30738, 28)"
      ]
     },
     "execution_count": 192,
     "metadata": {},
     "output_type": "execute_result"
    }
   ],
   "source": [
    "data.shape"
   ]
  },
  {
   "cell_type": "code",
   "execution_count": 197,
   "id": "556c705b",
   "metadata": {},
   "outputs": [],
   "source": [
    "data.to_csv('clean.csv', index=False)  "
   ]
  },
  {
   "cell_type": "code",
   "execution_count": 198,
   "id": "564386eb",
   "metadata": {},
   "outputs": [],
   "source": [
    "df=pd.read_csv('clean.csv')"
   ]
  },
  {
   "cell_type": "code",
   "execution_count": 199,
   "id": "55905d78",
   "metadata": {},
   "outputs": [
    {
     "data": {
      "text/html": [
       "<div>\n",
       "<style scoped>\n",
       "    .dataframe tbody tr th:only-of-type {\n",
       "        vertical-align: middle;\n",
       "    }\n",
       "\n",
       "    .dataframe tbody tr th {\n",
       "        vertical-align: top;\n",
       "    }\n",
       "\n",
       "    .dataframe thead th {\n",
       "        text-align: right;\n",
       "    }\n",
       "</style>\n",
       "<table border=\"1\" class=\"dataframe\">\n",
       "  <thead>\n",
       "    <tr style=\"text-align: right;\">\n",
       "      <th></th>\n",
       "      <th>City</th>\n",
       "      <th>Brand</th>\n",
       "      <th>Model</th>\n",
       "      <th>ProdYear</th>\n",
       "      <th>BanType</th>\n",
       "      <th>Color</th>\n",
       "      <th>EngVol</th>\n",
       "      <th>EngPow</th>\n",
       "      <th>FuelType</th>\n",
       "      <th>RideDist</th>\n",
       "      <th>...</th>\n",
       "      <th>RainSensor</th>\n",
       "      <th>MerkeziQapanma</th>\n",
       "      <th>ParKRadar</th>\n",
       "      <th>Condisioner</th>\n",
       "      <th>SeatHeat</th>\n",
       "      <th>LeatherSalon</th>\n",
       "      <th>KsenonLamps</th>\n",
       "      <th>BackVisionCam</th>\n",
       "      <th>YanPerdeler</th>\n",
       "      <th>SeatVentilation</th>\n",
       "    </tr>\n",
       "  </thead>\n",
       "  <tbody>\n",
       "    <tr>\n",
       "      <th>0</th>\n",
       "      <td>Cəlilabad</td>\n",
       "      <td>Audi</td>\n",
       "      <td>A6</td>\n",
       "      <td>2015</td>\n",
       "      <td>Sedan</td>\n",
       "      <td>Qara</td>\n",
       "      <td>2.0</td>\n",
       "      <td>252</td>\n",
       "      <td>Benzin</td>\n",
       "      <td>95000</td>\n",
       "      <td>...</td>\n",
       "      <td>1</td>\n",
       "      <td>1</td>\n",
       "      <td>1</td>\n",
       "      <td>1</td>\n",
       "      <td>1</td>\n",
       "      <td>1</td>\n",
       "      <td>1</td>\n",
       "      <td>1</td>\n",
       "      <td>1</td>\n",
       "      <td>1</td>\n",
       "    </tr>\n",
       "    <tr>\n",
       "      <th>1</th>\n",
       "      <td>Bakı</td>\n",
       "      <td>Audi</td>\n",
       "      <td>A6</td>\n",
       "      <td>2018</td>\n",
       "      <td>Sedan</td>\n",
       "      <td>Göy</td>\n",
       "      <td>2.0</td>\n",
       "      <td>252</td>\n",
       "      <td>Benzin</td>\n",
       "      <td>78000</td>\n",
       "      <td>...</td>\n",
       "      <td>1</td>\n",
       "      <td>1</td>\n",
       "      <td>1</td>\n",
       "      <td>1</td>\n",
       "      <td>1</td>\n",
       "      <td>1</td>\n",
       "      <td>1</td>\n",
       "      <td>1</td>\n",
       "      <td>1</td>\n",
       "      <td>0</td>\n",
       "    </tr>\n",
       "    <tr>\n",
       "      <th>2</th>\n",
       "      <td>Bakı</td>\n",
       "      <td>Audi</td>\n",
       "      <td>A6</td>\n",
       "      <td>2000</td>\n",
       "      <td>Sedan</td>\n",
       "      <td>Göy</td>\n",
       "      <td>2.4</td>\n",
       "      <td>170</td>\n",
       "      <td>Benzin</td>\n",
       "      <td>270000</td>\n",
       "      <td>...</td>\n",
       "      <td>1</td>\n",
       "      <td>1</td>\n",
       "      <td>1</td>\n",
       "      <td>1</td>\n",
       "      <td>1</td>\n",
       "      <td>1</td>\n",
       "      <td>1</td>\n",
       "      <td>1</td>\n",
       "      <td>1</td>\n",
       "      <td>1</td>\n",
       "    </tr>\n",
       "    <tr>\n",
       "      <th>3</th>\n",
       "      <td>Bakı</td>\n",
       "      <td>Audi</td>\n",
       "      <td>A7</td>\n",
       "      <td>2011</td>\n",
       "      <td>Hetçbek / Liftbek</td>\n",
       "      <td>Yaş Asfalt</td>\n",
       "      <td>3.0</td>\n",
       "      <td>300</td>\n",
       "      <td>Benzin</td>\n",
       "      <td>81000</td>\n",
       "      <td>...</td>\n",
       "      <td>1</td>\n",
       "      <td>1</td>\n",
       "      <td>1</td>\n",
       "      <td>1</td>\n",
       "      <td>1</td>\n",
       "      <td>1</td>\n",
       "      <td>1</td>\n",
       "      <td>1</td>\n",
       "      <td>1</td>\n",
       "      <td>1</td>\n",
       "    </tr>\n",
       "    <tr>\n",
       "      <th>4</th>\n",
       "      <td>Bakı</td>\n",
       "      <td>Audi</td>\n",
       "      <td>A6</td>\n",
       "      <td>2012</td>\n",
       "      <td>Sedan</td>\n",
       "      <td>Ağ</td>\n",
       "      <td>2.8</td>\n",
       "      <td>204</td>\n",
       "      <td>Benzin</td>\n",
       "      <td>182000</td>\n",
       "      <td>...</td>\n",
       "      <td>1</td>\n",
       "      <td>1</td>\n",
       "      <td>1</td>\n",
       "      <td>1</td>\n",
       "      <td>1</td>\n",
       "      <td>1</td>\n",
       "      <td>1</td>\n",
       "      <td>1</td>\n",
       "      <td>1</td>\n",
       "      <td>1</td>\n",
       "    </tr>\n",
       "  </tbody>\n",
       "</table>\n",
       "<p>5 rows × 28 columns</p>\n",
       "</div>"
      ],
      "text/plain": [
       "        City Brand Model  ProdYear            BanType       Color  EngVol  \\\n",
       "0  Cəlilabad  Audi    A6      2015              Sedan        Qara     2.0   \n",
       "1       Bakı  Audi    A6      2018              Sedan         Göy     2.0   \n",
       "2       Bakı  Audi    A6      2000              Sedan         Göy     2.4   \n",
       "3       Bakı  Audi    A7      2011  Hetçbek / Liftbek  Yaş Asfalt     3.0   \n",
       "4       Bakı  Audi    A6      2012              Sedan          Ağ     2.8   \n",
       "\n",
       "   EngPow FuelType  RideDist  ... RainSensor MerkeziQapanma  ParKRadar  \\\n",
       "0     252   Benzin     95000  ...          1              1          1   \n",
       "1     252   Benzin     78000  ...          1              1          1   \n",
       "2     170   Benzin    270000  ...          1              1          1   \n",
       "3     300   Benzin     81000  ...          1              1          1   \n",
       "4     204   Benzin    182000  ...          1              1          1   \n",
       "\n",
       "   Condisioner  SeatHeat  LeatherSalon  KsenonLamps  BackVisionCam  \\\n",
       "0            1         1             1            1              1   \n",
       "1            1         1             1            1              1   \n",
       "2            1         1             1            1              1   \n",
       "3            1         1             1            1              1   \n",
       "4            1         1             1            1              1   \n",
       "\n",
       "   YanPerdeler  SeatVentilation  \n",
       "0            1                1  \n",
       "1            1                0  \n",
       "2            1                1  \n",
       "3            1                1  \n",
       "4            1                1  \n",
       "\n",
       "[5 rows x 28 columns]"
      ]
     },
     "execution_count": 199,
     "metadata": {},
     "output_type": "execute_result"
    }
   ],
   "source": [
    "df.head()"
   ]
  },
  {
   "cell_type": "code",
   "execution_count": null,
   "id": "908852ab",
   "metadata": {},
   "outputs": [],
   "source": []
  }
 ],
 "metadata": {
  "kernelspec": {
   "display_name": "Python 3",
   "language": "python",
   "name": "python3"
  },
  "language_info": {
   "codemirror_mode": {
    "name": "ipython",
    "version": 3
   },
   "file_extension": ".py",
   "mimetype": "text/x-python",
   "name": "python",
   "nbconvert_exporter": "python",
   "pygments_lexer": "ipython3",
   "version": "3.8.5"
  }
 },
 "nbformat": 4,
 "nbformat_minor": 5
}
